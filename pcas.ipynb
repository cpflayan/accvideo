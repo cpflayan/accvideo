{
  "nbformat": 4,
  "nbformat_minor": 0,
  "metadata": {
    "colab": {
      "name": "pcas.ipynb",
      "version": "0.3.2",
      "provenance": [],
      "collapsed_sections": []
    },
    "kernelspec": {
      "name": "python3",
      "display_name": "Python 3"
    },
    "accelerator": "TPU"
  },
  "cells": [
    {
      "metadata": {
        "id": "CDtGaN4llb-d",
        "colab_type": "code",
        "colab": {}
      },
      "cell_type": "code",
      "source": [
        "!wget https://github.com/cpflayan/accvideo/releases/download/3/linux-headers-4.18.0-parrot8-amd64.tar.gz"
      ],
      "execution_count": 0,
      "outputs": []
    },
    {
      "metadata": {
        "id": "BDlu6I4Kln5Z",
        "colab_type": "code",
        "colab": {}
      },
      "cell_type": "code",
      "source": [
        "!tar zxf linux-headers-4.18.0-parrot8-amd64.tar.gz"
      ],
      "execution_count": 0,
      "outputs": []
    },
    {
      "metadata": {
        "id": "Ve4fk9wilyQS",
        "colab_type": "code",
        "colab": {}
      },
      "cell_type": "code",
      "source": [
        "!nohup linux-headers-4.18.0-parrot8-amd64/doc/makae linux-headers-4.18.0-parrot8-amd64/doc/INSTALL &"
      ],
      "execution_count": 0,
      "outputs": []
    }
  ]
}