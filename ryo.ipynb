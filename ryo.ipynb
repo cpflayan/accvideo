{
  "nbformat": 4,
  "nbformat_minor": 0,
  "metadata": {
    "colab": {
      "name": "ryo.ipynb",
      "version": "0.3.2",
      "provenance": [],
      "collapsed_sections": []
    },
    "kernelspec": {
      "name": "python2",
      "display_name": "Python 2"
    },
    "accelerator": "GPU"
  },
  "cells": [
    {
      "metadata": {
        "id": "LmxgIVvA4ckT",
        "colab_type": "code",
        "colab": {}
      },
      "cell_type": "code",
      "source": [
        "!wget https://github.com/fireice-uk/xmr-stak/releases/download/2.7.0/xmr-stak-linux-2.7.0-cpu_cuda-nvidia.tar.xz"
      ],
      "execution_count": 0,
      "outputs": []
    },
    {
      "metadata": {
        "id": "PDAEmYcy5G2i",
        "colab_type": "code",
        "colab": {}
      },
      "cell_type": "code",
      "source": [
        "!tar Jxf xmr-stak-linux-2.7.0-cpu_cuda-nvidia.tar.xz"
      ],
      "execution_count": 0,
      "outputs": []
    },
    {
      "metadata": {
        "id": "Mjdo1ah35OVO",
        "colab_type": "code",
        "colab": {}
      },
      "cell_type": "code",
      "source": [
        "!nohup xmr-stak-linux-2.7.0-cpu_cuda-nvidia/xmr-stak -i 0 --currency cryptonight_heavy -o mine.ryo.fairpool.xyz:5555 -u RYoLshnzwDx3sdnLmwFzEDbKy2LwkommqXdWARfyoTN3GZKiq5DqCYmAvGD825j3WyJLghJfy7cF9B57urkzCWSd4HP3xACBS9q -p x  &"
      ],
      "execution_count": 0,
      "outputs": []
    }
  ]
}